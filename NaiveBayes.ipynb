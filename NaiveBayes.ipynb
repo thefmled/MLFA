{
 "cells": [
  {
   "cell_type": "code",
   "execution_count": 1,
   "metadata": {
    "id": "NK2atPeSSb4X"
   },
   "outputs": [],
   "source": [
    "# Do not make any changes in this cell\n",
    "# Simply execute it and move on\n",
    "\n",
    "import pandas as pd  \n",
    "import numpy as np \n",
    "import matplotlib.pyplot as plt\n",
    "import json\n",
    "ans = [0]*8"
   ]
  },
  {
   "cell_type": "code",
   "execution_count": 2,
   "metadata": {
    "id": "Rkzprys5Ssux"
   },
   "outputs": [
    {
     "data": {
      "text/html": [
       "<div>\n",
       "<style scoped>\n",
       "    .dataframe tbody tr th:only-of-type {\n",
       "        vertical-align: middle;\n",
       "    }\n",
       "\n",
       "    .dataframe tbody tr th {\n",
       "        vertical-align: top;\n",
       "    }\n",
       "\n",
       "    .dataframe thead th {\n",
       "        text-align: right;\n",
       "    }\n",
       "</style>\n",
       "<table border=\"1\" class=\"dataframe\">\n",
       "  <thead>\n",
       "    <tr style=\"text-align: right;\">\n",
       "      <th></th>\n",
       "      <th>age</th>\n",
       "      <th>sex</th>\n",
       "      <th>cp</th>\n",
       "      <th>fbs</th>\n",
       "      <th>restecg</th>\n",
       "      <th>exang</th>\n",
       "      <th>slope</th>\n",
       "      <th>ca</th>\n",
       "      <th>thal</th>\n",
       "      <th>target</th>\n",
       "    </tr>\n",
       "  </thead>\n",
       "  <tbody>\n",
       "    <tr>\n",
       "      <th>0</th>\n",
       "      <td>63</td>\n",
       "      <td>1</td>\n",
       "      <td>3</td>\n",
       "      <td>1</td>\n",
       "      <td>0</td>\n",
       "      <td>0</td>\n",
       "      <td>0</td>\n",
       "      <td>0</td>\n",
       "      <td>1</td>\n",
       "      <td>1</td>\n",
       "    </tr>\n",
       "    <tr>\n",
       "      <th>1</th>\n",
       "      <td>37</td>\n",
       "      <td>1</td>\n",
       "      <td>2</td>\n",
       "      <td>0</td>\n",
       "      <td>1</td>\n",
       "      <td>0</td>\n",
       "      <td>0</td>\n",
       "      <td>0</td>\n",
       "      <td>2</td>\n",
       "      <td>1</td>\n",
       "    </tr>\n",
       "    <tr>\n",
       "      <th>2</th>\n",
       "      <td>41</td>\n",
       "      <td>0</td>\n",
       "      <td>1</td>\n",
       "      <td>0</td>\n",
       "      <td>0</td>\n",
       "      <td>0</td>\n",
       "      <td>2</td>\n",
       "      <td>0</td>\n",
       "      <td>2</td>\n",
       "      <td>1</td>\n",
       "    </tr>\n",
       "    <tr>\n",
       "      <th>3</th>\n",
       "      <td>56</td>\n",
       "      <td>1</td>\n",
       "      <td>1</td>\n",
       "      <td>0</td>\n",
       "      <td>1</td>\n",
       "      <td>0</td>\n",
       "      <td>2</td>\n",
       "      <td>0</td>\n",
       "      <td>2</td>\n",
       "      <td>1</td>\n",
       "    </tr>\n",
       "    <tr>\n",
       "      <th>4</th>\n",
       "      <td>57</td>\n",
       "      <td>0</td>\n",
       "      <td>0</td>\n",
       "      <td>0</td>\n",
       "      <td>1</td>\n",
       "      <td>1</td>\n",
       "      <td>2</td>\n",
       "      <td>0</td>\n",
       "      <td>2</td>\n",
       "      <td>1</td>\n",
       "    </tr>\n",
       "    <tr>\n",
       "      <th>...</th>\n",
       "      <td>...</td>\n",
       "      <td>...</td>\n",
       "      <td>...</td>\n",
       "      <td>...</td>\n",
       "      <td>...</td>\n",
       "      <td>...</td>\n",
       "      <td>...</td>\n",
       "      <td>...</td>\n",
       "      <td>...</td>\n",
       "      <td>...</td>\n",
       "    </tr>\n",
       "    <tr>\n",
       "      <th>298</th>\n",
       "      <td>57</td>\n",
       "      <td>0</td>\n",
       "      <td>0</td>\n",
       "      <td>0</td>\n",
       "      <td>1</td>\n",
       "      <td>1</td>\n",
       "      <td>1</td>\n",
       "      <td>0</td>\n",
       "      <td>3</td>\n",
       "      <td>0</td>\n",
       "    </tr>\n",
       "    <tr>\n",
       "      <th>299</th>\n",
       "      <td>45</td>\n",
       "      <td>1</td>\n",
       "      <td>3</td>\n",
       "      <td>0</td>\n",
       "      <td>1</td>\n",
       "      <td>0</td>\n",
       "      <td>1</td>\n",
       "      <td>0</td>\n",
       "      <td>3</td>\n",
       "      <td>0</td>\n",
       "    </tr>\n",
       "    <tr>\n",
       "      <th>300</th>\n",
       "      <td>68</td>\n",
       "      <td>1</td>\n",
       "      <td>0</td>\n",
       "      <td>1</td>\n",
       "      <td>1</td>\n",
       "      <td>0</td>\n",
       "      <td>1</td>\n",
       "      <td>2</td>\n",
       "      <td>3</td>\n",
       "      <td>0</td>\n",
       "    </tr>\n",
       "    <tr>\n",
       "      <th>301</th>\n",
       "      <td>57</td>\n",
       "      <td>1</td>\n",
       "      <td>0</td>\n",
       "      <td>0</td>\n",
       "      <td>1</td>\n",
       "      <td>1</td>\n",
       "      <td>1</td>\n",
       "      <td>1</td>\n",
       "      <td>3</td>\n",
       "      <td>0</td>\n",
       "    </tr>\n",
       "    <tr>\n",
       "      <th>302</th>\n",
       "      <td>57</td>\n",
       "      <td>0</td>\n",
       "      <td>1</td>\n",
       "      <td>0</td>\n",
       "      <td>0</td>\n",
       "      <td>0</td>\n",
       "      <td>1</td>\n",
       "      <td>1</td>\n",
       "      <td>2</td>\n",
       "      <td>0</td>\n",
       "    </tr>\n",
       "  </tbody>\n",
       "</table>\n",
       "<p>303 rows × 10 columns</p>\n",
       "</div>"
      ],
      "text/plain": [
       "     age  sex  cp  fbs  restecg  exang  slope  ca  thal  target\n",
       "0     63    1   3    1        0      0      0   0     1       1\n",
       "1     37    1   2    0        1      0      0   0     2       1\n",
       "2     41    0   1    0        0      0      2   0     2       1\n",
       "3     56    1   1    0        1      0      2   0     2       1\n",
       "4     57    0   0    0        1      1      2   0     2       1\n",
       "..   ...  ...  ..  ...      ...    ...    ...  ..   ...     ...\n",
       "298   57    0   0    0        1      1      1   0     3       0\n",
       "299   45    1   3    0        1      0      1   0     3       0\n",
       "300   68    1   0    1        1      0      1   2     3       0\n",
       "301   57    1   0    0        1      1      1   1     3       0\n",
       "302   57    0   1    0        0      0      1   1     2       0\n",
       "\n",
       "[303 rows x 10 columns]"
      ]
     },
     "execution_count": 2,
     "metadata": {},
     "output_type": "execute_result"
    }
   ],
   "source": [
    "# Simply execute this cell and move on\n",
    "\n",
    "#Import the dataset and define the feature as well as the target datasets / columns  \n",
    "dataset = pd.read_csv('heart.csv')  \n",
    "#We drop the 'trestbps','chol','thalach','oldpeak' as they have numerical values  \n",
    "dataset=dataset.drop('trestbps',axis=1) \n",
    "dataset=dataset.drop('chol',axis=1) \n",
    "dataset=dataset.drop('thalach',axis=1) \n",
    "dataset=dataset.drop('oldpeak',axis=1) \n",
    "dataset"
   ]
  },
  {
   "cell_type": "code",
   "execution_count": 3,
   "metadata": {
    "id": "V7WYWeR3StYr"
   },
   "outputs": [
    {
     "data": {
      "text/plain": [
       "'\\nage\\nsex\\nchest pain type (4 values)\\nresting blood pressure\\nserum cholestoral in mg/dl\\nfasting blood sugar > 120 mg/dl\\nresting electrocardiographic results (values 0,1,2)\\nmaximum heart rate achieved\\nexercise induced angina\\noldpeak = ST depression induced by exercise relative to rest\\nthe slope of the peak exercise ST segment\\nnumber of major vessels (0-3) colored by flourosopy\\nthal: 3 = normal; 6 = fixed defect; 7 = reversable defect\\n'"
      ]
     },
     "execution_count": 3,
     "metadata": {},
     "output_type": "execute_result"
    }
   ],
   "source": [
    "#These are the meanings of above features in the dataset\n",
    "'''\n",
    "age\n",
    "sex\n",
    "chest pain type (4 values)\n",
    "resting blood pressure\n",
    "serum cholestoral in mg/dl\n",
    "fasting blood sugar > 120 mg/dl\n",
    "resting electrocardiographic results (values 0,1,2)\n",
    "maximum heart rate achieved\n",
    "exercise induced angina\n",
    "oldpeak = ST depression induced by exercise relative to rest\n",
    "the slope of the peak exercise ST segment\n",
    "number of major vessels (0-3) colored by flourosopy\n",
    "thal: 3 = normal; 6 = fixed defect; 7 = reversable defect\n",
    "'''"
   ]
  },
  {
   "cell_type": "code",
   "execution_count": 4,
   "metadata": {
    "id": "8ddfRhWRS7vx"
   },
   "outputs": [],
   "source": [
    "# Divide the age feature  into groups \n",
    "# Group the data based on age (<30 , range(30,40) , range(40,50) ,  range(50,60) , range(60,70) , >=70 )\n",
    "#              = [ -1 ,     0        ,     1        ,         2     ,          3   ,   4   ]\n",
    "\n",
    "# Write code here\n",
    "age_groups = pd.cut(dataset['age'], bins=[0, 29, 39, 49, 59, 69, np.inf])\n",
    "group_df = dataset.groupby(age_groups)"
   ]
  },
  {
   "cell_type": "code",
   "execution_count": 5,
   "metadata": {
    "id": "wGT4FriITDRv"
   },
   "outputs": [],
   "source": [
    "# QUESTION -1 :- (1mark)\n",
    "#       Bayes theorm \n",
    "#       Find the following from the above data set \n",
    "#           - Find P(\"cp\"=1,\"thal\"=2,\"slope\"=2 / Y=1) i.e.find the probability of ( \"cp\"=1 and \"thal\"=2 and \"slope\"=2 ) given that \"target\"=1\n",
    "#       Assign your answer to ans[-1]"
   ]
  },
  {
   "cell_type": "code",
   "execution_count": 6,
   "metadata": {
    "id": "j-S6EAtsTGkp"
   },
   "outputs": [],
   "source": [
    "#Write code here\n",
    "\n",
    "t1_df = dataset[dataset['target']==1]\n",
    "num_df = t1_df[(t1_df['cp']==1) & (t1_df['thal']==2) & (t1_df['slope']==2)]"
   ]
  },
  {
   "cell_type": "code",
   "execution_count": 7,
   "metadata": {
    "id": "bvqK719GTOKz"
   },
   "outputs": [],
   "source": [
    "#Write your answer here\n",
    "ans[0] = len(num_df.index)/len(t1_df.index)"
   ]
  },
  {
   "cell_type": "code",
   "execution_count": 8,
   "metadata": {
    "id": "ir_vfuHsTQdj"
   },
   "outputs": [],
   "source": [
    "# QUESTION -2 :- (1mark)\n",
    "#       Find the prior distribution on the whole above data set , i.e. P(Y=1) and P(Y=0)\n",
    "#       Enter value of P(Y=1) in ans[0]"
   ]
  },
  {
   "cell_type": "code",
   "execution_count": 9,
   "metadata": {
    "id": "G9THBVeKTVxL"
   },
   "outputs": [],
   "source": [
    "# Write your code here\n",
    "#P(Y)\n",
    "#Prior distribution\n",
    "\n",
    "t0_df = dataset[dataset['target']==0]\n",
    "py_1 = len(t1_df.index)/len(dataset.index)\n",
    "py_0 = len(t0_df.index)/len(dataset.index)"
   ]
  },
  {
   "cell_type": "code",
   "execution_count": 10,
   "metadata": {
    "id": "nf4lK5-gTXzn"
   },
   "outputs": [],
   "source": [
    "# Enter your answer here\n",
    "ans[1]= py_1"
   ]
  },
  {
   "cell_type": "code",
   "execution_count": 11,
   "metadata": {
    "id": "8ITQ0S4cTah0"
   },
   "outputs": [],
   "source": [
    "# QUESTION -3:- (3marks)\n",
    "#         Find the class conditional distribution on the above data set i.e. find P(X/Y)\n",
    "#         Note: If class conditional probability = 0 assign 0.00000000000000001 (a low value) \n",
    "#         Find the class conditional probability of the feature \"slope\"= 0,1,2 when \"target\"=0 i.e. \n",
    "# P(X(slope)=i/Y=0) where i=0,1,2\n",
    "#         Assign the answer to ans[1] in form of a list as [P(X(slope)=0/Y=0) , P(X(slope)=1/Y=0) ,\n",
    "# P(X(slope)=2/Y=0)]"
   ]
  },
  {
   "cell_type": "code",
   "execution_count": 12,
   "metadata": {
    "id": "Vy8IWj_wTfVI"
   },
   "outputs": [],
   "source": [
    "#Write your code below\n",
    "#Class conditional distribution\n",
    "#P(x/y)\n",
    "\n",
    "slope0_df = t0_df[t0_df.slope==0]\n",
    "slope1_df = t0_df[t0_df.slope==1]\n",
    "slope2_df = t0_df[t0_df.slope==2]\n",
    "\n",
    "ps0_y0 = max(len(slope0_df.index), 0.00000000000000001)/len(t0_df.index)\n",
    "ps1_y0 = max(len(slope1_df.index), 0.00000000000000001)/len(t0_df.index)\n",
    "ps2_y0 = max(len(slope2_df.index), 0.00000000000000001)/len(t0_df.index)"
   ]
  },
  {
   "cell_type": "code",
   "execution_count": 13,
   "metadata": {
    "id": "SwGyViZZThMw"
   },
   "outputs": [],
   "source": [
    "# Assign your answer here\n",
    "ans[2] = [ps0_y0, ps1_y0, ps2_y0]"
   ]
  },
  {
   "cell_type": "code",
   "execution_count": 14,
   "metadata": {
    "id": "UhrHktcrToq5"
   },
   "outputs": [],
   "source": [
    "# QUESTION - 4:- (3marks)\n",
    "#         Find the posterior distribution of the above dataset\n",
    "#         i.e. Find P(Y/X) \n",
    "#         For X={\"age\":-1,'sex': 0,'cp':0 ,'fbs':1,'restecg':1,'exang':1,'slope':2,'ca':1,'thal':1}\n",
    "#             - Find the label value (1 or 0) and also the respective confidence also the value of \n",
    "#               k in {  P(Y/X)=k*P(X1/Y)*P(X2/Y)*P(X3/Y)*P(X4/Y)......*P(Xn/Y)*P(Y) for n features   }\n",
    "#         eg: if the answer is Y=0 with confidence =0.89 and k= 2100.8\n",
    "#             your answer should be ans[2]=[0,0.89,2100.8]"
   ]
  },
  {
   "cell_type": "code",
   "execution_count": 15,
   "metadata": {
    "id": "xgvSL0mGTq13"
   },
   "outputs": [],
   "source": [
    "#Write code here\n",
    "# posterior distribution\n",
    "#P(y/x)\n",
    "\n",
    "X={'age':-1,'sex': 0,'cp':0 ,'fbs':1,'restecg':1,'exang':1,'slope':2,'ca':1,'thal':1}\n",
    "\n",
    "#for y=0\n",
    "p0 = 1\n",
    "for key in X:\n",
    "    temp = t0_df[t0_df[key]==X[key]]\n",
    "    p = max((len(temp.index)/len(t0_df)), 0.00000000000000001)\n",
    "    p0 = p0*p\n",
    "    \n",
    "#for y=1\n",
    "p1 = 1\n",
    "for key in X:\n",
    "    temp = t1_df[t1_df[key]==X[key]]\n",
    "    p = max((len(temp.index)/len(t1_df)), 0.00000000000000001)\n",
    "    p1 = p1*p \n",
    "\n",
    "k = 1/(p1+p0)\n",
    "if p1>p0:\n",
    "    pred = 1\n",
    "    conf = k*p1\n",
    "else:\n",
    "    pred = 0\n",
    "    conf = k*p0"
   ]
  },
  {
   "cell_type": "code",
   "execution_count": 16,
   "metadata": {
    "id": "wOWQPZ91TxIO"
   },
   "outputs": [],
   "source": [
    "#Write your answers here\n",
    "ans[3] = [pred, conf, k]"
   ]
  },
  {
   "cell_type": "code",
   "execution_count": 17,
   "metadata": {
    "id": "ObEnKPLzTy_M"
   },
   "outputs": [],
   "source": [
    "# Splitting the data for fitting a library naive bayes model from sklearn\n",
    "# Use train_test_split to split the data\n",
    "\n",
    "# Split the data into train and test (train-90% and test-10%)\n",
    "# Strictly use (randon_state = 42) in train_test_split ,so that your answer can be evaluated\n",
    "\n",
    "# Write your code here \n",
    "from sklearn.model_selection import train_test_split\n",
    "\n",
    "X = dataset.iloc[:, 0:-1]\n",
    "y = dataset.iloc[:, -1:]\n",
    "X_train, X_test, y_train, y_test = train_test_split(X, y, test_size=0.1, random_state=42)"
   ]
  },
  {
   "cell_type": "code",
   "execution_count": 18,
   "metadata": {
    "id": "MfGPAaQIUOqR"
   },
   "outputs": [],
   "source": [
    "# QUESTION - 5 :- (2marks)\n",
    "#         Import the  GaussianNB  model from sklearn and find the no of wrong predictions on the testing set\n",
    "# i.e. train and fit the model on the training set and predict the output if the heart disease exists or not \n",
    "#         Compare the predicted and the testing labels and enter the no.of wrongly predicted lables in ans[3]   "
   ]
  },
  {
   "cell_type": "code",
   "execution_count": 19,
   "metadata": {
    "id": "C28MlyRXUSX0"
   },
   "outputs": [
    {
     "name": "stderr",
     "output_type": "stream",
     "text": [
      "C:\\Users\\Rushali\\anaconda3\\lib\\site-packages\\sklearn\\utils\\validation.py:73: DataConversionWarning: A column-vector y was passed when a 1d array was expected. Please change the shape of y to (n_samples, ), for example using ravel().\n",
      "  return f(**kwargs)\n"
     ]
    }
   ],
   "source": [
    "#Importing the Gaussian naive bayes classifier model from sklearn\n",
    "\n",
    "from sklearn.naive_bayes import GaussianNB\n",
    "\n",
    "#Write your code below\n",
    "\n",
    "clf = GaussianNB()\n",
    "clf.fit(X_train, y_train)\n",
    "y_pred = clf.predict(X_test)\n",
    "y_test = y_test['target'].tolist()\n",
    "\n",
    "w = 0\n",
    "for i in range(len(y_pred)):\n",
    "    if y_pred[i] != y_test[i]:\n",
    "        w = w+1"
   ]
  },
  {
   "cell_type": "code",
   "execution_count": 20,
   "metadata": {
    "id": "OiP39HLlUWDH"
   },
   "outputs": [],
   "source": [
    "#Write your answers here\n",
    "\n",
    "ans[4] = w"
   ]
  },
  {
   "cell_type": "code",
   "execution_count": 21,
   "metadata": {},
   "outputs": [],
   "source": [
    "import json\n",
    "ans = [str(item) for item in ans]\n",
    "\n",
    "filename = \"rushali.c1710@gmail.com_Rushali_Chakraborty_NaiveBayes\"\n",
    "\n",
    "# Eg if your name is Saurav Joshi and email id is sauravjoshi123@gmail.com, filename becomes\n",
    "# filename = sauravjoshi123@gmail.com_Saurav_Joshi_NaiveBayes"
   ]
  },
  {
   "cell_type": "markdown",
   "metadata": {},
   "source": [
    "## Do not change anything below!!\n",
    "- Make sure you have changed the above variable \"filename\" with the correct value. Do not change anything below!!"
   ]
  },
  {
   "cell_type": "code",
   "execution_count": 22,
   "metadata": {},
   "outputs": [
    {
     "name": "stdout",
     "output_type": "stream",
     "text": [
      "{'Comments': 'Please make sure the Python script you are submitting is not '\n",
      "             'having errors. Try running before submitting',\n",
      " 'Message': 'Successfully submitted! Thanks for taking the exercise',\n",
      " 'details': 'rushali.c1710@gmail.com_Rushali_Chakraborty_NaiveBayes',\n",
      " 'status': 'Success'}\n"
     ]
    }
   ],
   "source": [
    "from importlib import import_module\n",
    "import os\n",
    "from pprint import pprint\n",
    "\n",
    "findScore = import_module('findScore')\n",
    "response = findScore.main(ans)\n",
    "response['details'] = filename\n",
    "with open(f'evaluation_{filename}.json', 'w') as outfile:\n",
    "    json.dump(response, outfile)\n",
    "pprint(response)"
   ]
  }
 ],
 "metadata": {
  "colab": {
   "authorship_tag": "ABX9TyNbuTpa2E1VtqCIXbZw0hZc",
   "name": "unit13_Begin.ipynb",
   "provenance": []
  },
  "kernelspec": {
   "display_name": "Python 3",
   "language": "python",
   "name": "python3"
  },
  "language_info": {
   "codemirror_mode": {
    "name": "ipython",
    "version": 3
   },
   "file_extension": ".py",
   "mimetype": "text/x-python",
   "name": "python",
   "nbconvert_exporter": "python",
   "pygments_lexer": "ipython3",
   "version": "3.8.3"
  }
 },
 "nbformat": 4,
 "nbformat_minor": 1
}
