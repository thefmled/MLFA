{
 "cells": [
  {
   "cell_type": "code",
   "execution_count": 1,
   "metadata": {
    "id": "h1wXvjnNrfif"
   },
   "outputs": [],
   "source": [
    "#Run this cell\n",
    "#Importing necessary libraries \n",
    "import pandas as pd  \n",
    "import numpy as np \n",
    "import matplotlib.pyplot as plt\n",
    "import json\n",
    "ans=[0]*5"
   ]
  },
  {
   "cell_type": "code",
   "execution_count": 2,
   "metadata": {
    "id": "DwSVIBfD0qNR"
   },
   "outputs": [
    {
     "data": {
      "text/html": [
       "<div>\n",
       "<style scoped>\n",
       "    .dataframe tbody tr th:only-of-type {\n",
       "        vertical-align: middle;\n",
       "    }\n",
       "\n",
       "    .dataframe tbody tr th {\n",
       "        vertical-align: top;\n",
       "    }\n",
       "\n",
       "    .dataframe thead th {\n",
       "        text-align: right;\n",
       "    }\n",
       "</style>\n",
       "<table border=\"1\" class=\"dataframe\">\n",
       "  <thead>\n",
       "    <tr style=\"text-align: right;\">\n",
       "      <th></th>\n",
       "      <th>animal_name</th>\n",
       "      <th>hair</th>\n",
       "      <th>feathers</th>\n",
       "      <th>eggs</th>\n",
       "      <th>milk</th>\n",
       "      <th>airborne</th>\n",
       "      <th>aquatic</th>\n",
       "      <th>predator</th>\n",
       "      <th>toothed</th>\n",
       "      <th>backbone</th>\n",
       "      <th>breathes</th>\n",
       "      <th>venomous</th>\n",
       "      <th>fins</th>\n",
       "      <th>legs</th>\n",
       "      <th>tail</th>\n",
       "      <th>domestic</th>\n",
       "      <th>catsize</th>\n",
       "      <th>class_type</th>\n",
       "    </tr>\n",
       "  </thead>\n",
       "  <tbody>\n",
       "    <tr>\n",
       "      <th>0</th>\n",
       "      <td>aardvark</td>\n",
       "      <td>1</td>\n",
       "      <td>0</td>\n",
       "      <td>0</td>\n",
       "      <td>1</td>\n",
       "      <td>0</td>\n",
       "      <td>0</td>\n",
       "      <td>1</td>\n",
       "      <td>1</td>\n",
       "      <td>1</td>\n",
       "      <td>1</td>\n",
       "      <td>0</td>\n",
       "      <td>0</td>\n",
       "      <td>4</td>\n",
       "      <td>0</td>\n",
       "      <td>0</td>\n",
       "      <td>1</td>\n",
       "      <td>1</td>\n",
       "    </tr>\n",
       "    <tr>\n",
       "      <th>1</th>\n",
       "      <td>antelope</td>\n",
       "      <td>1</td>\n",
       "      <td>0</td>\n",
       "      <td>0</td>\n",
       "      <td>1</td>\n",
       "      <td>0</td>\n",
       "      <td>0</td>\n",
       "      <td>0</td>\n",
       "      <td>1</td>\n",
       "      <td>1</td>\n",
       "      <td>1</td>\n",
       "      <td>0</td>\n",
       "      <td>0</td>\n",
       "      <td>4</td>\n",
       "      <td>1</td>\n",
       "      <td>0</td>\n",
       "      <td>1</td>\n",
       "      <td>1</td>\n",
       "    </tr>\n",
       "    <tr>\n",
       "      <th>2</th>\n",
       "      <td>bass</td>\n",
       "      <td>0</td>\n",
       "      <td>0</td>\n",
       "      <td>1</td>\n",
       "      <td>0</td>\n",
       "      <td>0</td>\n",
       "      <td>1</td>\n",
       "      <td>1</td>\n",
       "      <td>1</td>\n",
       "      <td>1</td>\n",
       "      <td>0</td>\n",
       "      <td>0</td>\n",
       "      <td>1</td>\n",
       "      <td>0</td>\n",
       "      <td>1</td>\n",
       "      <td>0</td>\n",
       "      <td>0</td>\n",
       "      <td>4</td>\n",
       "    </tr>\n",
       "    <tr>\n",
       "      <th>3</th>\n",
       "      <td>bear</td>\n",
       "      <td>1</td>\n",
       "      <td>0</td>\n",
       "      <td>0</td>\n",
       "      <td>1</td>\n",
       "      <td>0</td>\n",
       "      <td>0</td>\n",
       "      <td>1</td>\n",
       "      <td>1</td>\n",
       "      <td>1</td>\n",
       "      <td>1</td>\n",
       "      <td>0</td>\n",
       "      <td>0</td>\n",
       "      <td>4</td>\n",
       "      <td>0</td>\n",
       "      <td>0</td>\n",
       "      <td>1</td>\n",
       "      <td>1</td>\n",
       "    </tr>\n",
       "    <tr>\n",
       "      <th>4</th>\n",
       "      <td>boar</td>\n",
       "      <td>1</td>\n",
       "      <td>0</td>\n",
       "      <td>0</td>\n",
       "      <td>1</td>\n",
       "      <td>0</td>\n",
       "      <td>0</td>\n",
       "      <td>1</td>\n",
       "      <td>1</td>\n",
       "      <td>1</td>\n",
       "      <td>1</td>\n",
       "      <td>0</td>\n",
       "      <td>0</td>\n",
       "      <td>4</td>\n",
       "      <td>1</td>\n",
       "      <td>0</td>\n",
       "      <td>1</td>\n",
       "      <td>1</td>\n",
       "    </tr>\n",
       "  </tbody>\n",
       "</table>\n",
       "</div>"
      ],
      "text/plain": [
       "  animal_name  hair  feathers  eggs  milk  airborne  aquatic  predator  \\\n",
       "0    aardvark     1         0     0     1         0        0         1   \n",
       "1    antelope     1         0     0     1         0        0         0   \n",
       "2        bass     0         0     1     0         0        1         1   \n",
       "3        bear     1         0     0     1         0        0         1   \n",
       "4        boar     1         0     0     1         0        0         1   \n",
       "\n",
       "   toothed  backbone  breathes  venomous  fins  legs  tail  domestic  catsize  \\\n",
       "0        1         1         1         0     0     4     0         0        1   \n",
       "1        1         1         1         0     0     4     1         0        1   \n",
       "2        1         1         0         0     1     0     1         0        0   \n",
       "3        1         1         1         0     0     4     0         0        1   \n",
       "4        1         1         1         0     0     4     1         0        1   \n",
       "\n",
       "   class_type  \n",
       "0           1  \n",
       "1           1  \n",
       "2           4  \n",
       "3           1  \n",
       "4           1  "
      ]
     },
     "execution_count": 2,
     "metadata": {},
     "output_type": "execute_result"
    }
   ],
   "source": [
    "#Import the dataset and define the feature as well as the target datasets / columns \n",
    "df = pd.read_csv('zoo.csv')\n",
    "\n",
    "#We drop the animal names since this is not a good feature to split the data on. \n",
    "features = df.iloc[:, 1:17]\n",
    "target = df.iloc[:, 17:18]\n",
    "df.head()"
   ]
  },
  {
   "cell_type": "code",
   "execution_count": 3,
   "metadata": {
    "id": "JVym-1Gp07wb"
   },
   "outputs": [],
   "source": [
    "#Write a function to find the entropy on a split \"target_col\"\n",
    "\n",
    "def entropy(target_col, n):\n",
    "    if isinstance(target_col, pd.Series):\n",
    "        p_i = target_col.value_counts()/target_col.shape[0]\n",
    "        entropy = np.sum(-p_i*(np.log10(p_i)/np.log10(n)))\n",
    "        return(entropy)\n",
    "\n",
    "    else:\n",
    "        raise('Object must be a Pandas Series.')\n",
    "  "
   ]
  },
  {
   "cell_type": "code",
   "execution_count": 4,
   "metadata": {
    "id": "qGD6L7r5gGrL"
   },
   "outputs": [
    {
     "name": "stdout",
     "output_type": "stream",
     "text": [
      "[0.9840304711717018, 0.7179499765002912, 0.9794662187017298, 0.9743197211096903, 0.7910662980902585, 0.9396846718728562, 0.9914266810680206, 0.9685867165455516, 0.6761627418829198, 0.7374895672137456, 0.3993820824245974, 0.653839880626333, 0.7867856278366623, 0.8228368841492258, 0.5538976334852962, 0.9880162151534646]\n"
     ]
    }
   ],
   "source": [
    "#Find the entropy of all the features in the dataset\n",
    "#Save all the feature names in an array \"feature names\"\n",
    "feature_names=['hair','feathers','eggs','milk','airborne','aquatic','predator','toothed','backbone', \n",
    "               'breathes','venomous','fins','legs','tail','domestic','catsize']\n",
    "\n",
    "entropy_array = []\n",
    "for i in feature_names:\n",
    "    entropy_array.append(entropy(features[i], len(features[i].unique())))\n",
    "\n",
    "print(entropy_array)"
   ]
  },
  {
   "cell_type": "code",
   "execution_count": 5,
   "metadata": {
    "id": "V_J9cZxf2VJ3"
   },
   "outputs": [
    {
     "data": {
      "text/plain": [
       "0.9685867165455516"
      ]
     },
     "execution_count": 5,
     "metadata": {},
     "output_type": "execute_result"
    }
   ],
   "source": [
    "#Find the entropy of the feature \"toothed\"\n",
    "ans[0]= entropy(features['toothed'], len(features['toothed'].unique()))\n",
    "ans[0]"
   ]
  },
  {
   "cell_type": "code",
   "execution_count": 6,
   "metadata": {
    "id": "xwVaEI7X1VFc"
   },
   "outputs": [],
   "source": [
    "#Write a function to calculate Information Gain on a split attribute and a target column\n",
    "def InfoGain(data,split_attribute_name,target_name):       \n",
    "    #Calculate the entropy of the total dataset  \n",
    "    original_entropy = entropy(data[target_name], len(data[target_name].unique()))\n",
    "    #Calculate the values and the corresponding counts for the split attribute   \n",
    "    counts1 = []\n",
    "    entropies1 = []\n",
    "    for j in data[split_attribute_name].unique():\n",
    "        target_col = []\n",
    "        #print(j)\n",
    "        for k in data[split_attribute_name].index:\n",
    "            #print(features[split_attribue_name].iloc[k])\n",
    "            if data[split_attribute_name].iloc[k] == j:\n",
    "                #print(features[split_attribue_name].iloc[k])\n",
    "                target_col.append(data[target_name].iloc[k])\n",
    "        target_col_DF = pd.DataFrame(target_col, columns = ['class'])\n",
    "        #print(j)\n",
    "        counts1.append(len(target_col))\n",
    "        entropies1.append(entropy(target_col_DF['class'], len(data[target_name].unique())))\n",
    "    #Calculate the weighted entropy  \n",
    "    counts = np.array(counts1)\n",
    "    entropies = np.array(entropies1)\n",
    "    weighted_entropy = np.sum(np.multiply(counts, entropies))/np.sum(counts)\n",
    "\n",
    "    #Calculate the information gain  \n",
    "    info_gain = original_entropy - weighted_entropy\n",
    "    return info_gain\n",
    "    "
   ]
  },
  {
   "cell_type": "code",
   "execution_count": 7,
   "metadata": {
    "id": "g6Ounoj32VB0"
   },
   "outputs": [
    {
     "data": {
      "text/plain": [
       "0.6599660577558697"
      ]
     },
     "execution_count": 7,
     "metadata": {},
     "output_type": "execute_result"
    }
   ],
   "source": [
    "#Find the information gain having split attribute \"hair\" and the target feature name \"milk\"\n",
    "\n",
    "ans[1]= InfoGain(df, 'hair', 'milk')\n",
    "ans[1]"
   ]
  },
  {
   "cell_type": "code",
   "execution_count": 8,
   "metadata": {
    "id": "sRiOQRe8lL-i"
   },
   "outputs": [
    {
     "name": "stdout",
     "output_type": "stream",
     "text": [
      "Information Gain with target feature 'hair' = 0.6599660577558699\n",
      "Information Gain with target feature 'feathers' = 0.17242769884415887\n",
      "Information Gain with target feature 'eggs' = 0.7870598185734242\n",
      "Information Gain with target feature 'airborne' = 0.11370352314621812\n",
      "Information Gain with target feature 'aquatic' = 0.10181386403185944\n",
      "Information Gain with target feature 'predator' = 0.0006367772440212249\n",
      "Information Gain with target feature 'toothed' = 0.3465412540071714\n",
      "Information Gain with target feature 'backbone' = 0.15262359382508262\n",
      "Information Gain with target feature 'breathes' = 0.18259765312929555\n",
      "Information Gain with target feature 'venomous' = 0.06284178150207931\n",
      "Information Gain with target feature 'fins' = 0.018672543666944486\n",
      "Information Gain with target feature 'legs' = 0.14201031256361096\n",
      "Information Gain with target feature 'tail' = 0.03350320459269085\n",
      "Information Gain with target feature 'domestic' = 0.019010135775093362\n",
      "Information Gain with target feature 'catsize' = 0.2509271768405701\n"
     ]
    }
   ],
   "source": [
    "#Find the Info gain having \"milk\" as the split attribute and all the other features as target features one at a time\n",
    "split_attribute = 'milk'\n",
    "for i in feature_names:\n",
    "    if i != split_attribute:\n",
    "        print(\"Information Gain with target feature '\" + i + \"' = \" + str(InfoGain(df, split_attribute, i)))"
   ]
  },
  {
   "cell_type": "code",
   "execution_count": 9,
   "metadata": {
    "id": "YFEBzgI41eeJ"
   },
   "outputs": [],
   "source": [
    "#Import Decision Tree Classifier from sklearn \n",
    "from sklearn.tree import DecisionTreeClassifier\n",
    "\n",
    "from sklearn.model_selection import train_test_split\n",
    "#Split the given data into 80 percent training data and 20 percent testing data\n",
    "x_train, x_test, y_train, y_test = train_test_split(features, target, test_size=0.2, random_state = 42)"
   ]
  },
  {
   "cell_type": "code",
   "execution_count": 10,
   "metadata": {
    "id": "AZXmFwU410JI"
   },
   "outputs": [],
   "source": [
    "#Fit the given data\n",
    "tree = DecisionTreeClassifier(criterion = 'entropy')\n",
    "tree = tree.fit(x_train, y_train)"
   ]
  },
  {
   "cell_type": "code",
   "execution_count": 11,
   "metadata": {
    "id": "aTreS7NKkFqH"
   },
   "outputs": [
    {
     "data": {
      "text/plain": [
       "95.23809523809523"
      ]
     },
     "execution_count": 11,
     "metadata": {},
     "output_type": "execute_result"
    }
   ],
   "source": [
    "#Make a prediction on the test data and return the percentage of accuracy\n",
    "from sklearn import metrics\n",
    "\n",
    "ypred_entropy = tree.predict(x_test)\n",
    "accuracy = metrics.accuracy_score(y_test, ypred_entropy)\n",
    "ans[2] = accuracy*100\n",
    "ans[2]"
   ]
  },
  {
   "cell_type": "code",
   "execution_count": 12,
   "metadata": {
    "id": "U5YdmNcs34ZS"
   },
   "outputs": [
    {
     "ename": "InvocationException",
     "evalue": "GraphViz's executables not found",
     "output_type": "error",
     "traceback": [
      "\u001b[1;31m---------------------------------------------------------------------------\u001b[0m",
      "\u001b[1;31mInvocationException\u001b[0m                       Traceback (most recent call last)",
      "\u001b[1;32m<ipython-input-12-1b98b8252dd2>\u001b[0m in \u001b[0;36m<module>\u001b[1;34m\u001b[0m\n\u001b[0;32m     10\u001b[0m                 special_characters=True)\n\u001b[0;32m     11\u001b[0m \u001b[0mgraph\u001b[0m \u001b[1;33m=\u001b[0m \u001b[0mpydotplus\u001b[0m\u001b[1;33m.\u001b[0m\u001b[0mgraph_from_dot_data\u001b[0m\u001b[1;33m(\u001b[0m\u001b[0mdot_data\u001b[0m\u001b[1;33m.\u001b[0m\u001b[0mgetvalue\u001b[0m\u001b[1;33m(\u001b[0m\u001b[1;33m)\u001b[0m\u001b[1;33m)\u001b[0m\u001b[1;33m\u001b[0m\u001b[1;33m\u001b[0m\u001b[0m\n\u001b[1;32m---> 12\u001b[1;33m \u001b[0mImage\u001b[0m\u001b[1;33m(\u001b[0m\u001b[0mgraph\u001b[0m\u001b[1;33m.\u001b[0m\u001b[0mcreate_png\u001b[0m\u001b[1;33m(\u001b[0m\u001b[1;33m)\u001b[0m\u001b[1;33m)\u001b[0m\u001b[1;33m\u001b[0m\u001b[1;33m\u001b[0m\u001b[0m\n\u001b[0m",
      "\u001b[1;32m~\\anaconda3\\lib\\site-packages\\pydotplus\\graphviz.py\u001b[0m in \u001b[0;36m<lambda>\u001b[1;34m(f, prog)\u001b[0m\n\u001b[0;32m   1795\u001b[0m             self.__setattr__(\n\u001b[0;32m   1796\u001b[0m                 \u001b[1;34m'create_'\u001b[0m \u001b[1;33m+\u001b[0m \u001b[0mfrmt\u001b[0m\u001b[1;33m,\u001b[0m\u001b[1;33m\u001b[0m\u001b[1;33m\u001b[0m\u001b[0m\n\u001b[1;32m-> 1797\u001b[1;33m                 \u001b[1;32mlambda\u001b[0m \u001b[0mf\u001b[0m\u001b[1;33m=\u001b[0m\u001b[0mfrmt\u001b[0m\u001b[1;33m,\u001b[0m \u001b[0mprog\u001b[0m\u001b[1;33m=\u001b[0m\u001b[0mself\u001b[0m\u001b[1;33m.\u001b[0m\u001b[0mprog\u001b[0m\u001b[1;33m:\u001b[0m \u001b[0mself\u001b[0m\u001b[1;33m.\u001b[0m\u001b[0mcreate\u001b[0m\u001b[1;33m(\u001b[0m\u001b[0mformat\u001b[0m\u001b[1;33m=\u001b[0m\u001b[0mf\u001b[0m\u001b[1;33m,\u001b[0m \u001b[0mprog\u001b[0m\u001b[1;33m=\u001b[0m\u001b[0mprog\u001b[0m\u001b[1;33m)\u001b[0m\u001b[1;33m\u001b[0m\u001b[1;33m\u001b[0m\u001b[0m\n\u001b[0m\u001b[0;32m   1798\u001b[0m             )\n\u001b[0;32m   1799\u001b[0m             \u001b[0mf\u001b[0m \u001b[1;33m=\u001b[0m \u001b[0mself\u001b[0m\u001b[1;33m.\u001b[0m\u001b[0m__dict__\u001b[0m\u001b[1;33m[\u001b[0m\u001b[1;34m'create_'\u001b[0m \u001b[1;33m+\u001b[0m \u001b[0mfrmt\u001b[0m\u001b[1;33m]\u001b[0m\u001b[1;33m\u001b[0m\u001b[1;33m\u001b[0m\u001b[0m\n",
      "\u001b[1;32m~\\anaconda3\\lib\\site-packages\\pydotplus\\graphviz.py\u001b[0m in \u001b[0;36mcreate\u001b[1;34m(self, prog, format)\u001b[0m\n\u001b[0;32m   1957\u001b[0m             \u001b[0mself\u001b[0m\u001b[1;33m.\u001b[0m\u001b[0mprogs\u001b[0m \u001b[1;33m=\u001b[0m \u001b[0mfind_graphviz\u001b[0m\u001b[1;33m(\u001b[0m\u001b[1;33m)\u001b[0m\u001b[1;33m\u001b[0m\u001b[1;33m\u001b[0m\u001b[0m\n\u001b[0;32m   1958\u001b[0m             \u001b[1;32mif\u001b[0m \u001b[0mself\u001b[0m\u001b[1;33m.\u001b[0m\u001b[0mprogs\u001b[0m \u001b[1;32mis\u001b[0m \u001b[1;32mNone\u001b[0m\u001b[1;33m:\u001b[0m\u001b[1;33m\u001b[0m\u001b[1;33m\u001b[0m\u001b[0m\n\u001b[1;32m-> 1959\u001b[1;33m                 raise InvocationException(\n\u001b[0m\u001b[0;32m   1960\u001b[0m                     'GraphViz\\'s executables not found')\n\u001b[0;32m   1961\u001b[0m \u001b[1;33m\u001b[0m\u001b[0m\n",
      "\u001b[1;31mInvocationException\u001b[0m: GraphViz's executables not found"
     ]
    }
   ],
   "source": [
    "#Run this cell to visualize the decision tree\n",
    "from six import StringIO\n",
    "from IPython.display import Image  \n",
    "from sklearn.tree import export_graphviz\n",
    "import pydotplus\n",
    "\n",
    "dot_data = StringIO()\n",
    "export_graphviz(tree, out_file=dot_data, feature_names=feature_names,  \n",
    "                filled=True, rounded=True,\n",
    "                special_characters=True)\n",
    "graph = pydotplus.graph_from_dot_data(dot_data.getvalue())  \n",
    "Image(graph.create_png())"
   ]
  },
  {
   "cell_type": "code",
   "execution_count": 13,
   "metadata": {
    "id": "MAHqi9VFOCJQ"
   },
   "outputs": [
    {
     "name": "stdout",
     "output_type": "stream",
     "text": [
      "Classification Report:-\n",
      "              precision    recall  f1-score   support\n",
      "\n",
      "           1       1.00      1.00      1.00        12\n",
      "           2       1.00      1.00      1.00         2\n",
      "           3       0.00      0.00      0.00         1\n",
      "           4       1.00      1.00      1.00         2\n",
      "           5       0.00      0.00      0.00         0\n",
      "           6       1.00      1.00      1.00         3\n",
      "           7       1.00      1.00      1.00         1\n",
      "\n",
      "    accuracy                           0.95        21\n",
      "   macro avg       0.71      0.71      0.71        21\n",
      "weighted avg       0.95      0.95      0.95        21\n",
      "\n",
      "Confusion Matrix:-\n",
      "[[12  0  0  0  0  0  0]\n",
      " [ 0  2  0  0  0  0  0]\n",
      " [ 0  0  0  0  1  0  0]\n",
      " [ 0  0  0  2  0  0  0]\n",
      " [ 0  0  0  0  0  0  0]\n",
      " [ 0  0  0  0  0  3  0]\n",
      " [ 0  0  0  0  0  0  1]]\n",
      "None\n"
     ]
    }
   ],
   "source": [
    "#Use sklearn to make a classification report and a confusion matrix\n",
    "from sklearn.metrics import classification_report, confusion_matrix\n",
    "print(\"Classification Report:-\")\n",
    "print(classification_report(y_test, ypred_entropy, zero_division = 0))\n",
    "print(\"Confusion Matrix:-\")\n",
    "matrix = metrics.confusion_matrix(y_test, ypred_entropy)\n",
    "print(print(metrics.confusion_matrix(y_test, ypred_entropy)))"
   ]
  },
  {
   "cell_type": "code",
   "execution_count": 14,
   "metadata": {
    "id": "HoMrBh0EloU9"
   },
   "outputs": [
    {
     "data": {
      "text/plain": [
       "[0, 0]"
      ]
     },
     "execution_count": 14,
     "metadata": {},
     "output_type": "execute_result"
    }
   ],
   "source": [
    "#Find the recall,f1-score for class type '3'\n",
    "TP_FP = 0\n",
    "for i in range(len(matrix)):\n",
    "    TP_FP += matrix[i, 2]\n",
    "if TP_FP == 0:\n",
    "    precision = 0\n",
    "    recall = 0\n",
    "    f1 = 0\n",
    "else:\n",
    "    TP_FN = sum(matrix[2])\n",
    "    if TP_FN != 0:\n",
    "        recall = matrix[2,2]/TP_FN\n",
    "        precision = matrix[2,2]/TP_FP\n",
    "        f1 = 2*recall*precision/(recall + precision)\n",
    "    else:\n",
    "        precision = 0\n",
    "        recall = 0\n",
    "        f1 = 0\n",
    "ans[3]= [recall, f1]\n",
    "ans[3]"
   ]
  },
  {
   "cell_type": "code",
   "execution_count": 15,
   "metadata": {
    "id": "t9gD7kPvPBQj"
   },
   "outputs": [
    {
     "name": "stdout",
     "output_type": "stream",
     "text": [
      "0.09523809523809523\n",
      "0.19047619047619047\n",
      "0.4364357804719847\n"
     ]
    }
   ],
   "source": [
    "#Calculate Mean Absolute Error,Mean Squared Error and Root Mean Squared Error\n",
    "import math\n",
    "ypred = np.array(ypred_entropy)\n",
    "ytest1 = np.array(y_test['class_type'])\n",
    "ytest = np.multiply(-1, ytest1)\n",
    "mae = np.sum(np.abs(np.add(ytest, ypred)))/len(ytest)\n",
    "print(mae)\n",
    "mse = np.sum(np.square(np.add(ytest, ypred)))/len(ytest)\n",
    "print(mse)\n",
    "rmse = math.sqrt(mse)\n",
    "print(rmse)"
   ]
  },
  {
   "cell_type": "code",
   "execution_count": 16,
   "metadata": {
    "id": "tYB4hvfhk7TA"
   },
   "outputs": [
    {
     "data": {
      "text/plain": [
       "[0.09523809523809523, 0.4364357804719847]"
      ]
     },
     "execution_count": 16,
     "metadata": {},
     "output_type": "execute_result"
    }
   ],
   "source": [
    "#Find the mean absolute error and root mean square error, save then in a list [mae,rmse]\n",
    "ans[4]= [mae, rmse]\n",
    "ans[4]"
   ]
  },
  {
   "cell_type": "code",
   "execution_count": 17,
   "metadata": {
    "id": "ktlLqpDqd9c1"
   },
   "outputs": [],
   "source": [
    "##do not change this code\n",
    "import json\n",
    "ans = [str(item) for item in ans]\n",
    "\n",
    "filename = \"rushali.c1710@gmail.com_Rushali_Chakraborty_DecisionTrees\"\n",
    "\n",
    "# Eg if your name is Saurav Joshi and email id is sauravjoshi123@gmail.com, filename becomes\n",
    "# filename = sauravjoshi123@gmail.com_Saurav_Joshi_LinearRegression"
   ]
  },
  {
   "cell_type": "markdown",
   "metadata": {},
   "source": [
    "## Do not change anything below!!\n",
    "- Make sure you have changed the above variable \"filename\" with the correct value. Do not change anything below!!"
   ]
  },
  {
   "cell_type": "code",
   "execution_count": 18,
   "metadata": {},
   "outputs": [
    {
     "name": "stdout",
     "output_type": "stream",
     "text": [
      "{'Comments': 'Please make sure the Python script you are submitting is not '\n",
      "             'having errors. Try running before submitting',\n",
      " 'Message': 'Successfully submitted! Thanks for taking the exercise',\n",
      " 'details': 'rushali.c1710@gmail.com_Rushali_Chakraborty_DecisionTrees',\n",
      " 'status': 'Success'}\n"
     ]
    }
   ],
   "source": [
    "from importlib import import_module\n",
    "import os\n",
    "from pprint import pprint\n",
    "\n",
    "findScore = import_module('findScore')\n",
    "response = findScore.main(ans)\n",
    "response['details'] = filename\n",
    "with open(f'evaluation_{filename}.json', 'w') as outfile:\n",
    "    json.dump(response, outfile)\n",
    "pprint(response)"
   ]
  },
  {
   "cell_type": "code",
   "execution_count": null,
   "metadata": {},
   "outputs": [],
   "source": []
  }
 ],
 "metadata": {
  "colab": {
   "name": "unit8_Begin.ipynb",
   "provenance": []
  },
  "kernelspec": {
   "display_name": "Python 3",
   "language": "python",
   "name": "python3"
  },
  "language_info": {
   "codemirror_mode": {
    "name": "ipython",
    "version": 3
   },
   "file_extension": ".py",
   "mimetype": "text/x-python",
   "name": "python",
   "nbconvert_exporter": "python",
   "pygments_lexer": "ipython3",
   "version": "3.8.3"
  }
 },
 "nbformat": 4,
 "nbformat_minor": 1
}
